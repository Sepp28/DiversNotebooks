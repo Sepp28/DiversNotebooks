{
 "cells": [
  {
   "cell_type": "markdown",
   "id": "3ca5a2aa",
   "metadata": {},
   "source": [
    "# Collecting Data from an old Heating System\n",
    "## First Steps\n",
    "Due to the climate and energy crisis, something had to be done to reduce our fuel consumption. We have a 27 year old gas heating system with a simple control system. One of our first actions was to turn the heating off when we were away for several days and turn it back on in time for our return. We bought a switchable plug (Shelly Plug) and a WLAN-enabled temperature sensor (Shelly H&T). This enabled us to keep an eye on the temperature in the house via the corresponding APP and to activate the heating if necessary on cold winter days.\n",
    "This gave us an easy way to save energy without sacrificing comfort.\n",
    "\n",
    "<table>\n",
    "  <tr>\n",
    "    <th><a href=\"https://github.com/Sepp28/\" target=\"_blank\"><img src=\"./images/Shelly_Temp_3.jpg\" \n",
    "            alt=\"Link to ...\" width=\"240\" height=\"180\" border=\"10\" /></a></th>\n",
    "    <th><a href=\"https://github.com/Sepp28/\" target=\"_blank\"><img src=\"./images/Shelly_Power_01.jpg\" \n",
    "            alt=\"Link to ...\" width=\"240\" height=\"180\" border=\"10\" /></a></th>\n",
    "  </tr>\n",
    "  <tr>\n",
    "    <td><center>Indoor temperature during a long absence</center></td>\n",
    "    <td><center>Electrical power consuption</center></td>\n",
    "  </tr>\n",
    "</table>\n",
    "\n",
    "As  shown in the left diagram in the beginning the temperature is constantly decreasing until it reaches a lower limit of about 10°C. After the 24th it rises within about 5 days due to a heat up in preparationof our return. The diagramm at right shows to current consumption of the heating system for control and water pumps. It was activated twice in the middle of the month to prevent the temperature to fall below ~10°C and a constant operation during heatup. The hight of the power graph indicates the amout of heating.\n",
    "\n",
    "## The Discovery\n",
    "By checking the indoor temperature from a distance, we noticed that the heating did not always behave as expected. Therefore, we analyzed the electricity consumption of the heating in more detail over longer time periods and were surprised how well we could understand what the heating was doing. We discovered situations where the heating was running very inefficiently.\n",
    "Therefore, we first had to systematically collect data so that, in a further step, we could preferentially activate the heating when it can run very efficiently.\n",
    "\n",
    "## The Python Code for Data Logging with a Raspberry Pi\n",
    "The data is collected via an HTTP request over the home WLAN. Since this is done 24 hours a day/7 days a week, an old Rasperry Pi was used, which permanently documents the power flow via the Shelly Plug in a csv file.    \n",
    "With this notebook the code can be tested easily. A pure Python code is then exported for the Raspberry."
   ]
  },
  {
   "cell_type": "code",
   "execution_count": 1,
   "id": "018d4574",
   "metadata": {},
   "outputs": [],
   "source": [
    "# import the necessary lybraries\n",
    "import requests\n",
    "import json\n",
    "import time\n",
    "import sys\n",
    "from datetime import datetime, timedelta\n",
    "import pandas as pd\n",
    "import numpy as np\n",
    "from webdav3.client import Client # only necessary, if the data is loaded in parallel to a web server."
   ]
  },
  {
   "cell_type": "code",
   "execution_count": 2,
   "id": "afec0a81",
   "metadata": {},
   "outputs": [],
   "source": [
    "options = {\n",
    "    # insert the data for your cloud storage\n",
    "    'webdav_hostname': \"https://mediacenter.gmx.net/\",\n",
    "    'webdav_login':    \"josef.krammer@gmx.net\",\n",
    "    'webdav_password': \"gmx1gmx1\",\n",
    "    'cert_path':       \"/etc/ssl/certs/ca-certificate.crt\"\n",
    "}\n",
    "client = Client(options)"
   ]
  },
  {
   "cell_type": "markdown",
   "id": "8eca6af7",
   "metadata": {},
   "source": [
    "The code must run for a very long time and reliably. Therefore it is tested before it is installed on the Raspberry. The test also includes error cases. It runs with shorter time constants. So it can be tested within a short time, what would need days and weeks in reality. The test/normal mode is controlled by a test flag (*test_flag*)."
   ]
  },
  {
   "cell_type": "code",
   "execution_count": 3,
   "id": "bf0b8732",
   "metadata": {},
   "outputs": [
    {
     "name": "stdout",
     "output_type": "stream",
     "text": [
      "normal operation with ip address: 192.168.178.47\n"
     ]
    }
   ],
   "source": [
    "# Now we set some variables. Dependent on test mode or normal mode.\n",
    "\n",
    "test_flag = False                # Switch to change to select test or normal mode.\n",
    "ip_local = '192.168.178.'\n",
    "if test_flag==False: # no test/ normal operation\n",
    "    ip_number        = 47        # last number of the ip-address (plug that connects the heating)\n",
    "    samples_per_file = 1800      # periodically samples are written to a individual csv file\n",
    "    print_factor     = 100       # a prompt appears in shorter intervalls to see the activities\n",
    "    sleep_relay_off  = 10        # when the plug is switched off the http request is done in longer intervals\n",
    "    sub_directory    = 'Shelly/' # subdirectory to save the data\n",
    "    sub_directory_wrong = 'Shelly/' # an alternative subdirectory to save the data\n",
    "    number_wrong_cloud_transfers = -1\n",
    "    text             = 'normal operation'\n",
    "else:                # during test the parameters are different\n",
    "    ip_number        = 52        # number ip-address of an alternative plug to not disturb the normal operation\n",
    "    samples_per_file = 10        # reduced number of samples per file\n",
    "    print_factor     = 2         # print the prompt more often\n",
    "    sleep_relay_off  = 1         # saple periode during off \n",
    "    sub_directory    = 'Test/'   # an alternative subdirectory to save test data\n",
    "    sub_directory_wrong = 'Test_wrong/' # a non existing subdirectory to cause a fault\n",
    "    number_wrong_cloud_transfers = 2    #\n",
    "    text             = 'test'\n",
    "\n",
    "ip_address = ip_local+str(ip_number)    # complete ip address\n",
    "print(text+' with ip address:', ip_address)"
   ]
  },
  {
   "cell_type": "markdown",
   "id": "d227bda3",
   "metadata": {},
   "source": [
    "### Now we define some usefull functions"
   ]
  },
  {
   "cell_type": "code",
   "execution_count": 4,
   "id": "94128280",
   "metadata": {},
   "outputs": [],
   "source": [
    "# convert a time stamp (eg. 1679929979) to a time string (eg. 2023-Mar-27 15:12:59)\n",
    "def get_time_string(time_stamp):\n",
    "    return datetime.utcfromtimestamp(time_stamp).strftime('%Y-%b-%d %H:%M:%S')"
   ]
  },
  {
   "cell_type": "code",
   "execution_count": 5,
   "id": "c69180c2",
   "metadata": {},
   "outputs": [],
   "source": [
    "# makes an http request and repeats it (max_tries) times in 5s intervals\n",
    "def request_n_times(url, max_tries):\n",
    "    i = 0\n",
    "    while i < max_tries:\n",
    "        i += 1\n",
    "        r = None\n",
    "        try:\n",
    "            r = requests.get(url,timeout=5)\n",
    "            if r.status_code != 200:\n",
    "                raise Exception('request status_code != 200')\n",
    "        except Exception as e:\n",
    "            if r is None:\n",
    "                status_code = 'None'\n",
    "                #print('\\n',datetime.now(),'status-code:', r.status_code)\n",
    "            else:\n",
    "                status_code = r.status_code\n",
    "            print('\\n', datetime.now(), 'HTTP status', status_code, 'retry:', i)\n",
    "            print(e)\n",
    "            time.sleep(5)\n",
    "        else:\n",
    "            return r\n",
    "    print('maximum retrials exceeded', i)\n",
    "    return r"
   ]
  },
  {
   "cell_type": "code",
   "execution_count": 6,
   "id": "aebd6ba3",
   "metadata": {},
   "outputs": [],
   "source": [
    "# sends a HTTP request tu the Shelly Plug with an unlimited number of retries.\n",
    "# and returns the parameters in a list.\n",
    "def request_shelly_plug_data(ip_address):\n",
    "    r = request_n_times('http://'+ip_address+'/status', 10) # repeats 10 request every 5 s\n",
    "    while r == None:                                        # pauses after 10 trials for 30s\n",
    "        print('Wait for 30s an try it again')\n",
    "        time.sleep(30)\n",
    "        r = request_n_times('http://'+ip_address+'/status', 10)\n",
    "    r_j = json.loads(r.text)\n",
    "    unix_t = r_j['unixtime']\n",
    "    timestamp = r_j['meters'][0]['timestamp']\n",
    "    power = r_j['meters'][0]['power']\n",
    "    total = r_j['meters'][0]['total']\n",
    "    relay = r_j['relays'][0]['ison']\n",
    "    temperature = r_j['temperature']\n",
    "    over_temperature = r_j['overtemperature']\n",
    "    uptime = r_j['uptime']\n",
    "    return [unix_t, timestamp, power, total, relay, temperature, over_temperature, uptime]"
   ]
  },
  {
   "cell_type": "code",
   "execution_count": 7,
   "id": "47030989",
   "metadata": {},
   "outputs": [],
   "source": [
    "# retrieves data from the Shelly and prints some of it to the console\n",
    "def print_shelly_plug_data(ip_address):\n",
    "    data = request_shelly_plug_data(ip_address)\n",
    "    relay = 'off'\n",
    "    if data[4]==True:\n",
    "        relay='on'\n",
    "    uptime_str = timedelta(data[7]/(24*3600))\n",
    "    print('{}: {}W (total: {:.3f}kWh), Relay={}, Temp={}, Uptime: {}'.\n",
    "          format(get_time_string(data[1]),data[2],data[3]/60000, relay, data[5], uptime_str))\n",
    "    #print(data)"
   ]
  },
  {
   "cell_type": "code",
   "execution_count": 8,
   "id": "c8e8e629",
   "metadata": {},
   "outputs": [],
   "source": [
    "# Write a bunch of data samples to a csv file in the subdirectory 'data'\n",
    "# the file name is 'Shelly_II_YYMMDD_hhmmss.csv', eg.: 'Shelly_47_230327_151259.csv'\n",
    "# Hence all file names are in ascending order.\n",
    "def write_data_to_file(unit_name,rec_time,power,total,temp):\n",
    "    data1 = {'timestamp': rec_time, 'power': power, 'total': total, 'temperature': temp}\n",
    "    data_frame = pd.DataFrame(data1)\n",
    "    file_name = 'data/Shelly_'+unit_name+'_'+datetime.utcfromtimestamp(data[1]).strftime('%y%m%d_%H%M%S')+'.csv'\n",
    "    data_frame.to_csv(file_name, index=False)\n",
    "    return file_name"
   ]
  },
  {
   "cell_type": "code",
   "execution_count": 9,
   "id": "3da12fa7",
   "metadata": {},
   "outputs": [
    {
     "name": "stdout",
     "output_type": "stream",
     "text": [
      "2023-Mar-29 13:00:25: 14.36W (total: 28.488kWh), Relay=on, Temp=28.6, Uptime: 55 days, 0:15:55\n"
     ]
    }
   ],
   "source": [
    "# Now we try a http request and print the result\n",
    "print_shelly_plug_data(ip_address)"
   ]
  },
  {
   "cell_type": "markdown",
   "id": "336d9bca",
   "metadata": {},
   "source": [
    "## Upload the Files to the Cloud\n",
    "In order to have a global access to the files, they are uploaded to a cloud storage. This is done regularely to have a short term insight. In case of a termination the data is almost completely secured. For that we have created a Uploader class that also encapsulates the complexity to make retries in case the uploading sporadically goes wrong."
   ]
  },
  {
   "cell_type": "code",
   "execution_count": 10,
   "id": "236be5b2",
   "metadata": {},
   "outputs": [],
   "source": [
    "class Uploader():\n",
    "    def __init__(self, client, sub_directory, sub_directory_wrong, number_wrong_cloud_transfers):\n",
    "        self.client = client\n",
    "        #self.ip_str = ip_address.split('.')[3]\n",
    "        self.sub_directory = sub_directory\n",
    "        self.sub_directory_wrong = sub_directory_wrong\n",
    "        self.number_wrong_cloud_transfers = number_wrong_cloud_transfers\n",
    "        self.n_files   = 0  # reset counter for number of files written\n",
    "        self.ind_wrong = 0  # counter of retries to transfer a file to the cloud\n",
    "        self.not_uploaded_remote_file_name = None\n",
    "        self.not_uploaded_local_file_name  = None\n",
    "        self.number_uploaded_files = 0\n",
    "        self.number_upload_retries = 0\n",
    "\n",
    "    def upload(self,file_name):\n",
    "        if self.ind_wrong<self.number_wrong_cloud_transfers:\n",
    "            self.ind_wrong += 1\n",
    "            remote_file_name = self.sub_directory_wrong+file_name.split('/')[len(file_name.split('/'))-1]\n",
    "        else:\n",
    "            remote_file_name = self.sub_directory+file_name.split('/')[len(file_name.split('/'))-1]\n",
    "        try:\n",
    "            self.client.upload_sync(remote_path=remote_file_name, local_path=file_name)\n",
    "            self.number_uploaded_files += 1\n",
    "        except Exception as e:\n",
    "            print(datetime.now(), 'Exception:',type(e), e)# '\\n', remote_file_name)\n",
    "            #print(e)\n",
    "            if self.not_uploaded_local_file_name!=None:\n",
    "                print('######### file:', self.not_uploaded_local_file_name, 'not uploaded! ###########')\n",
    "            self.not_uploaded_remote_file_name = remote_file_name\n",
    "            self.not_uploaded_local_file_name  = file_name\n",
    "            self.number_upload_retries = 0\n",
    "        \n",
    "        \n",
    "    def retry_upload(self): # in case something prevented the last upload. rety it now.\n",
    "        if self.not_uploaded_local_file_name != None: # retry to upload the not yet uploaded file\n",
    "            try:\n",
    "                self.client.upload_sync(remote_path=not_uploaded_remote_file_name, \n",
    "                                   local_path=not_uploaded_local_file_name)\n",
    "                self.number_uploaded_files += 1\n",
    "                self.not_uploaded_remote_file_name = None\n",
    "                self.not_uploaded_local_file_name  = None            \n",
    "            except Exception as e:\n",
    "                print(datetime.now(), 'Exception rep.:',type(e), e)# '\\n', self.not_uploaded_remote_file_name)\n",
    "                self.number_upload_retries += 1\n",
    "        if self.number_upload_retries >= 20:\n",
    "            print('######### file:', self.not_uploaded_local_file_name, 'not uploaded! ###########')\n",
    "            self.number_upload_retries = 0\n",
    "            self.not_uploaded_remote_file_name = None\n",
    "            self.not_uploaded_local_file_name  = None\n"
   ]
  },
  {
   "cell_type": "markdown",
   "id": "22b9ca82",
   "metadata": {},
   "source": [
    "## Save Data in Chunks to csv Files\n",
    "As shown in the left image below 4 values are recorded for each sample.\n",
    "- tmestamp: unix encoded time at which the values were measured\n",
    "- power:    power in Watts at measurement time\n",
    "- total: Energy in Wh since the last reset of the plug.\n",
    "- temperature: internal temperature of the plug. (Ambient temperature plus self-heating)\n",
    "\n",
    "Thr right image shows a sequence of files recorded on March 14th. Please note the file names that contain the save time.\n",
    "\n",
    "<table>\n",
    "  <tr>\n",
    "    <th><a href=\"https://github.com/Sepp28/\" target=\"_blank\"><img src=\"./images/table_01.png\" \n",
    "            alt=\"Link to ...\" width=\"360\" height=\"240\" border=\"10\" /></a></th>\n",
    "    <th><a href=\"https://github.com/Sepp28/\" target=\"_blank\"><img src=\"./images/files_03.png\" \n",
    "            alt=\"Link to ...\" width=\"360\" height=\"240\" border=\"10\" /></a></th>\n",
    "  </tr>\n",
    "  <tr>\n",
    "    <td><center>Example of a csv file</center></td>\n",
    "    <td><center>csv files in the subdirectory</center></td>\n",
    "  </tr>\n",
    "</table>\n",
    "\n"
   ]
  },
  {
   "cell_type": "markdown",
   "id": "0733373e",
   "metadata": {},
   "source": [
    "## The Main Loop\n",
    "The loop runs indefinitely. Data is fetched from the connector. When the defined number of data has been collected, they are saved to a file. In slightly shorter intervals a message about the current state of the data and files is output via console. The loop runs with one second when the relay is closed and ten seconds (=*sleep_relay_off*) when the relay is open, because in this case the power values are zero."
   ]
  },
  {
   "cell_type": "code",
   "execution_count": null,
   "id": "7c3c838e",
   "metadata": {},
   "outputs": [],
   "source": [
    "# Define Lists for the parameters that have to be recorded\n",
    "rec_time  = [] # recording time = time stamp\n",
    "power     = [] # Power of the sample\n",
    "total     = [] # total accumulated power\n",
    "temp      = [] # internal temparature of the Shelly Plug\n",
    "\n",
    "ind       = 0  # counter for the number of samples needed for a file\n",
    "uploader = Uploader(client, sub_directory, sub_directory_wrong, number_wrong_cloud_transfers)\n",
    "n_files   = 0  # number of files saved to disk\n",
    "\n",
    "while True:\n",
    "    data = request_shelly_plug_data(ip_address)\n",
    "    power.append(data[2])\n",
    "    total.append(data[3])\n",
    "    temp.append(data[5])\n",
    "    rec_time.append(data[1])\n",
    "    relay = data[4]\n",
    "    ind += 1\n",
    "    if ind==samples_per_file:\n",
    "        file_name = write_data_to_file(ip_str,rec_time,power,total,temp)\n",
    "        n_files += 1\n",
    "        uploader.upload(file_name)\n",
    "        power    = []\n",
    "        total    = []\n",
    "        temp     = []\n",
    "        rec_time = []\n",
    "        ind = 0\n",
    "    if ind%print_factor==0: # print after n=print_factor samples\n",
    "        print(\"{:4}/{}. files disk {} cloud {}\".format(ind,samples_per_file, n_files,\n",
    "                                                       uploader.number_uploaded_files))\n",
    "        sys.stdout.flush()\n",
    "        uploader.retry_upload()\n",
    "    if relay:\n",
    "        time.sleep(1)\n",
    "    else:\n",
    "        time.sleep(sleep_relay_off)\n"
   ]
  },
  {
   "cell_type": "markdown",
   "id": "5cbb3c76",
   "metadata": {},
   "source": [
    "## Hardware\n",
    "Except for the plug, an old Raspberry Pi Model B is used. It requires only a few watts of supply power. Since it is a full Linux machine, it can run Python programs. Remote operation is possible via SSH. Therefore, the RasPi can be positioned anywhere within the range of the WLAN and does not need a screen or keyboard. A USB power supply with 2A maximum current is used for stable continuous operation. Unlike with the previous 1A power supply, it has been running stably for several weeks now. \n",
    "\n",
    "\n",
    "## Outlook\n",
    "The following diagram is a preview of a more detailed analysis as shown in the next notebook. The picture shows the electrical power curve of the gas heater.  The heater is turned on at about 7:00 and turned off at 21.00. The peaks to over 400W are caused by the glow igniter to start the gas burner. It can be seen that the gas burner is turned on and off cyclically during the day. The power consumption for the pumps, valves, etc. is well below 100W. Immediately after start and twice after 18:00 you can see a small pause in the cycle as well as a phase that requires about 50W of power. These are phases when the hot water boiler is heated up. The slowly lengthening cycle during the day is also noticeable. This results from the rising outdoor temperature and thus reduced heating power. A more detailed analysis will follow.\n",
    "\n",
    "\n",
    "[![Test.png](./images/plot_02.png)](https://github.com/Sepp28/)\n",
    "<center>Power consuption of the heating system during one day</center>\n"
   ]
  },
  {
   "cell_type": "code",
   "execution_count": null,
   "id": "034e8608",
   "metadata": {},
   "outputs": [],
   "source": []
  }
 ],
 "metadata": {
  "kernelspec": {
   "display_name": "Python 3 (ipykernel)",
   "language": "python",
   "name": "python3"
  },
  "language_info": {
   "codemirror_mode": {
    "name": "ipython",
    "version": 3
   },
   "file_extension": ".py",
   "mimetype": "text/x-python",
   "name": "python",
   "nbconvert_exporter": "python",
   "pygments_lexer": "ipython3",
   "version": "3.8.10"
  }
 },
 "nbformat": 4,
 "nbformat_minor": 5
}
