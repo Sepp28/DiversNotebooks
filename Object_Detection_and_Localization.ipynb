{
 "cells": [
  {
   "cell_type": "markdown",
   "id": "8492d53c",
   "metadata": {},
   "source": [
    "# Object Recognition and Localization\n",
    "\n",
    "Digital cameras have high quality, low cost and are widely used. They can be used as powerful sensors. The basic function here is an angle sensor, depending on the \"angle of incidence\" the light intensity is sensed. The images shown in Fig. 5 each have approx. 5 megapixels. This corresponds (at 28mm focal length) to an angular resolution of approx. 0.025° or approx. 1.5 arc minutes. At the distances to the object shown in image 1, this corresponds to a spatial resolution of 0.1 to 0.2 mm (in the plane parallel to the image sensor), depending on the distance. \n",
    "\n",
    "Powerful algorithms can be used to generate valuable information from images. In the example here [OpenCV](https://opencv.org/) is used. In this project objects are recognized and measured. This also works in complex scenes, as shown in figure 1. Here an object was taught by means of a photo. Features were extracted automatically (unsupervised) and the geometric contour data of the box was added (supervised). With these model parameters the object can be recognized and localized in almost any position in images, see red boxes in figure 1. A reference corner is marked with a small circle. A special challenge is the understanding about different error sources and their reduction. See e.g. the deviations in the lower right corner of figure 1.\n"
   ]
  },
  {
   "cell_type": "markdown",
   "id": "9a51c67b",
   "metadata": {},
   "source": [
    "[![Different positions of an object.png](./images/ObjectIn4Positions_01.png)](https://github.com/Sepp28/)\n",
    "## <center>Fig.1: Object detected and localized in different positions.</center>"
   ]
  },
  {
   "cell_type": "markdown",
   "id": "7243ae7c",
   "metadata": {},
   "source": [
    "Improvements and a more detailed description will follow."
   ]
  },
  {
   "cell_type": "code",
   "execution_count": null,
   "id": "2503a895",
   "metadata": {},
   "outputs": [],
   "source": []
  }
 ],
 "metadata": {
  "kernelspec": {
   "display_name": "Python 3 (ipykernel)",
   "language": "python",
   "name": "python3"
  },
  "language_info": {
   "codemirror_mode": {
    "name": "ipython",
    "version": 3
   },
   "file_extension": ".py",
   "mimetype": "text/x-python",
   "name": "python",
   "nbconvert_exporter": "python",
   "pygments_lexer": "ipython3",
   "version": "3.8.10"
  }
 },
 "nbformat": 4,
 "nbformat_minor": 5
}
